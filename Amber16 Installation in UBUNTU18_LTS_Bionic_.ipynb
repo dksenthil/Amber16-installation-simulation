{
 "cells": [
  {
   "cell_type": "markdown",
   "metadata": {},
   "source": [
    "## __AMBER16+CUDA Installation in Ubuntu 18.04 (BIONIC)__\n",
    "\n",
    "___\n",
    "\n",
    "Author: Senthilkumar Kailasam\n",
    "\n",
    "Date: Feb 2018\n",
    "* Here I will go through the steps involved in installing amber16 + Ambertools 17 in Ubuntu 18.04 LTS with cuda 9.0 and nvidia-driver-390\n",
    "\n",
    "<font color=green>*Note:If you don't have a GPU card you can skip the steps involving CUDA and NVIDIA-DRIVER* </font>\n"
   ]
  },
  {
   "cell_type": "markdown",
   "metadata": {},
   "source": [
    "#### __1. Install all  prerequisites/dependency__\n",
    "\n",
    "*  Assuming its a fresh installation of Ubuntu 18.04 LTS"
   ]
  },
  {
   "cell_type": "code",
   "execution_count": null,
   "metadata": {},
   "outputs": [],
   "source": [
    "### commands to install packages in ubuntu box as a root user.\n",
    "\n",
    "apt-get install aptitude\n",
    "aptitude install vim csh flex patch gfortran g++ make xorg-dev bison libbz2-dev \n",
    "\n",
    "### Parallel MPI packages \n",
    "\n",
    "aptitude install openmpi-bin libopenmpi-dev \n",
    "\n",
    "### Python packages \n",
    "\n",
    "aptitude install python-numpy python-matplotlib python-scipy ipython  python-notebook cython python-dev python-pip "
   ]
  },
  {
   "cell_type": "markdown",
   "metadata": {},
   "source": [
    "#### __2. GNU GCC 6 Installation__\n",
    "\n",
    "*  Ubuntu 18.04 LTS comes with GCC 7 and AMBER16 requires GCC 6. "
   ]
  },
  {
   "cell_type": "code",
   "execution_count": null,
   "metadata": {},
   "outputs": [],
   "source": [
    "### GCC6 installation\n",
    "aptitude install gcc-6 g++-6\n",
    "\n",
    "#### create Symbolic Links\n",
    "ln -s gcc-6 gcc\n",
    "ln -s gcc-ar-6 gcc-ar\n",
    "ln -s gcc-nm-6 gcc-nm\n",
    "ln -s gcc-ranlib-6 gcc-ranlib\n",
    "ln -s g++-6 g++\n",
    "ln -s /usr/bin/gfortran-6 /usr/bin/gfortran "
   ]
  },
  {
   "cell_type": "markdown",
   "metadata": {},
   "source": [
    "#### __3. NETCDF installation__\n",
    "\n",
    "* Download parallel-netcdf-1.9.0 \n",
    "\n"
   ]
  },
  {
   "cell_type": "code",
   "execution_count": null,
   "metadata": {},
   "outputs": [],
   "source": [
    "### Install netcdf\n",
    "\n",
    "## go to netcdf folder followed by make and make install\n",
    "cd parallel-netcdf-1.9.0/ \n",
    "\n",
    "make \n",
    "\n",
    "make install "
   ]
  },
  {
   "cell_type": "markdown",
   "metadata": {},
   "source": [
    "#### __4. CUDA 9.0 Installation__\n",
    "\n",
    "* Assuming that the NVIDIA DRIVER installation went well! If not see that instruction at [Step 6](#NVIDIA-DRIVER)\n",
    "* Download cuda_9.0.176_384.81_linux.run  from NVIDIA website."
   ]
  },
  {
   "cell_type": "code",
   "execution_count": null,
   "metadata": {},
   "outputs": [],
   "source": [
    "### On the terminal , install cuda\n",
    "\n",
    "./cuda_9.0.176_384.81_linux.run \n",
    "\n",
    "### add lines to ld.so.conf\n",
    "\n",
    "echo \"include /usr/local/cuda-9.0/lib64\" >> /etc/ld.so.conf \n",
    "\n",
    "### run ldconfig\n",
    "\n",
    "ldconfig \n",
    "\n",
    "### Add PATH and environment updates to ~/.bashrc file and source\n",
    "\n",
    "export PATH=\"/usr/software/anaconda2/bin:$PATH\"\n",
    "test -f /usr/software/amber16/amber.sh && source /usr/software/amber16/amber.sh\n",
    "\n",
    "export PATH=/usr/local/cuda-9.0/bin${PATH:+:${PATH}}export \n",
    "LD_LIBRARY_PATH=/usr/local/cuda/lib64${LD_LIBRARY_PATH:+:${LD_LIBRARY_PATH}} \n",
    "\n",
    "source ~/.bashrc "
   ]
  },
  {
   "cell_type": "markdown",
   "metadata": {},
   "source": [
    "#### __5. Compiling AMBER 16 and AMBERTOOLS 17__\n",
    "\n",
    "* Download AMBER with license purchase at [ambermd.org](http://ambermd.org/GetAmber.php)\n",
    "* Download AmberTools17 from [ambermd.org](http://ambermd.org/AmberTools17-get.html)"
   ]
  },
  {
   "cell_type": "code",
   "execution_count": null,
   "metadata": {},
   "outputs": [],
   "source": [
    "### Steps on the terminal\n",
    "\n",
    "### Steps to compile the serial verison assuming my files are in tmp folder.\n",
    "\n",
    "tar xvvf /tmp/Amber16.tar.bz2 \n",
    "\n",
    "tar xvvf /tmp/AmberTools17.tar.bz2 \n",
    "\n",
    "cd /usr/software/amber16 \n",
    "\n",
    "./configure gnu \n",
    "\n",
    "make install \n",
    "\n",
    "### Steps to compile the parallel verison with NETCDF capabilities\n",
    "\n",
    "./configure -mpi --with-pnetcdf /usr/software/parallel-netcdf gnu \n",
    "\n",
    "make install \n",
    "\n",
    "#### Steps to compile serial cuda enabled amber \n",
    "\n",
    "./configure -cuda gnu \n",
    "make install \n",
    "    \n",
    "#### Steps to compile parallel+netcdf+cuda enabled amber \n",
    "./configure -mpi -cuda --with-pnetcdf  /usr/soft/parallel-netcdf gnu \n",
    "\n",
    "make install \n",
    "\n",
    "\n"
   ]
  },
  {
   "cell_type": "markdown",
   "metadata": {},
   "source": [
    "\n",
    "\n",
    "#### __6. NVIDIA DRIVER INSTALLATION__\n",
    "\n",
    "\n",
    "I followed the instruction given at \n",
    "https://www.mvps.net/docs/install-nvidia-drivers-ubuntu-18-04-lts-bionic-beaver-linux/\n",
    "<a id='NVIDIA-DRIVER'>\n",
    "</a>"
   ]
  },
  {
   "cell_type": "code",
   "execution_count": null,
   "metadata": {},
   "outputs": [],
   "source": [
    "### Clean the system of other Nvidia drivers\n",
    "\n",
    "aptitude purge nvidia*\n",
    "\n",
    "### check the latest driver version for our Nvidia GPU\n",
    "\n",
    "using link https://www.nvidia.com/object/unix.html\n",
    "    \n",
    "### Add the Nvidia graphic card PPA\n",
    "\n",
    "add-apt-repository ppa:graphics-drivers\n",
    "    \n",
    "### Prepare the system for the installation\n",
    "\n",
    "aptitude update\n",
    "\n",
    "### Install the Nvidia GPU driver\n",
    "\n",
    "aptitude install nvidia-driver-390\n",
    "\n",
    "reboot\n",
    "\n",
    "#### Verify Nvidia Driver installation\n",
    "\n",
    "lsmod | grep nvidia\n",
    "or\n",
    "nvidia-smi\n"
   ]
  }
 ],
 "metadata": {
  "kernelspec": {
   "display_name": "Python 3",
   "language": "python",
   "name": "python3"
  },
  "language_info": {
   "codemirror_mode": {
    "name": "ipython",
    "version": 3
   },
   "file_extension": ".py",
   "mimetype": "text/x-python",
   "name": "python",
   "nbconvert_exporter": "python",
   "pygments_lexer": "ipython3",
   "version": "3.6.7"
  }
 },
 "nbformat": 4,
 "nbformat_minor": 2
}
